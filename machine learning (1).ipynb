{
 "cells": [
  {
   "cell_type": "code",
   "execution_count": 1,
   "id": "76f108ba-2517-4719-8856-7ede7a1c6ee5",
   "metadata": {},
   "outputs": [],
   "source": [
    "import pandas as pd\n",
    "df=pd.read_csv(\"Downloads/college.csv\")"
   ]
  },
  {
   "cell_type": "code",
   "execution_count": 2,
   "id": "8851934c-e994-4f0a-82da-4aace25421b2",
   "metadata": {},
   "outputs": [
    {
     "data": {
      "text/html": [
       "<div>\n",
       "<style scoped>\n",
       "    .dataframe tbody tr th:only-of-type {\n",
       "        vertical-align: middle;\n",
       "    }\n",
       "\n",
       "    .dataframe tbody tr th {\n",
       "        vertical-align: top;\n",
       "    }\n",
       "\n",
       "    .dataframe thead th {\n",
       "        text-align: right;\n",
       "    }\n",
       "</style>\n",
       "<table border=\"1\" class=\"dataframe\">\n",
       "  <thead>\n",
       "    <tr style=\"text-align: right;\">\n",
       "      <th></th>\n",
       "      <th>INSTNM</th>\n",
       "      <th>CITY</th>\n",
       "      <th>STABBR</th>\n",
       "      <th>HBCU</th>\n",
       "      <th>MENONLY</th>\n",
       "      <th>WOMENONLY</th>\n",
       "      <th>RELAFFIL</th>\n",
       "      <th>SATVRMID</th>\n",
       "      <th>SATMTMID</th>\n",
       "      <th>DISTANCEONLY</th>\n",
       "      <th>...</th>\n",
       "      <th>UGDS_2MOR</th>\n",
       "      <th>UGDS_NRA</th>\n",
       "      <th>UGDS_UNKN</th>\n",
       "      <th>PPTUG_EF</th>\n",
       "      <th>CURROPER</th>\n",
       "      <th>PCTPELL</th>\n",
       "      <th>PCTFLOAN</th>\n",
       "      <th>UG25ABV</th>\n",
       "      <th>MD_EARN_WNE_P10</th>\n",
       "      <th>GRAD_DEBT_MDN_SUPP</th>\n",
       "    </tr>\n",
       "  </thead>\n",
       "  <tbody>\n",
       "    <tr>\n",
       "      <th>0</th>\n",
       "      <td>Alabama A &amp; M University</td>\n",
       "      <td>Normal</td>\n",
       "      <td>AL</td>\n",
       "      <td>1.0</td>\n",
       "      <td>0.0</td>\n",
       "      <td>0.0</td>\n",
       "      <td>0</td>\n",
       "      <td>424.0</td>\n",
       "      <td>420.0</td>\n",
       "      <td>0.0</td>\n",
       "      <td>...</td>\n",
       "      <td>0.0000</td>\n",
       "      <td>0.0059</td>\n",
       "      <td>0.0138</td>\n",
       "      <td>0.0656</td>\n",
       "      <td>1</td>\n",
       "      <td>0.7356</td>\n",
       "      <td>0.8284</td>\n",
       "      <td>0.1049</td>\n",
       "      <td>30300</td>\n",
       "      <td>33888</td>\n",
       "    </tr>\n",
       "    <tr>\n",
       "      <th>1</th>\n",
       "      <td>University of Alabama at Birmingham</td>\n",
       "      <td>Birmingham</td>\n",
       "      <td>AL</td>\n",
       "      <td>0.0</td>\n",
       "      <td>0.0</td>\n",
       "      <td>0.0</td>\n",
       "      <td>0</td>\n",
       "      <td>570.0</td>\n",
       "      <td>565.0</td>\n",
       "      <td>0.0</td>\n",
       "      <td>...</td>\n",
       "      <td>0.0368</td>\n",
       "      <td>0.0179</td>\n",
       "      <td>0.0100</td>\n",
       "      <td>0.2607</td>\n",
       "      <td>1</td>\n",
       "      <td>0.3460</td>\n",
       "      <td>0.5214</td>\n",
       "      <td>0.2422</td>\n",
       "      <td>39700</td>\n",
       "      <td>21941.5</td>\n",
       "    </tr>\n",
       "    <tr>\n",
       "      <th>2</th>\n",
       "      <td>Amridge University</td>\n",
       "      <td>Montgomery</td>\n",
       "      <td>AL</td>\n",
       "      <td>0.0</td>\n",
       "      <td>0.0</td>\n",
       "      <td>0.0</td>\n",
       "      <td>1</td>\n",
       "      <td>NaN</td>\n",
       "      <td>NaN</td>\n",
       "      <td>1.0</td>\n",
       "      <td>...</td>\n",
       "      <td>0.0000</td>\n",
       "      <td>0.0000</td>\n",
       "      <td>0.2715</td>\n",
       "      <td>0.4536</td>\n",
       "      <td>1</td>\n",
       "      <td>0.6801</td>\n",
       "      <td>0.7795</td>\n",
       "      <td>0.8540</td>\n",
       "      <td>40100</td>\n",
       "      <td>23370</td>\n",
       "    </tr>\n",
       "    <tr>\n",
       "      <th>3</th>\n",
       "      <td>University of Alabama in Huntsville</td>\n",
       "      <td>Huntsville</td>\n",
       "      <td>AL</td>\n",
       "      <td>0.0</td>\n",
       "      <td>0.0</td>\n",
       "      <td>0.0</td>\n",
       "      <td>0</td>\n",
       "      <td>595.0</td>\n",
       "      <td>590.0</td>\n",
       "      <td>0.0</td>\n",
       "      <td>...</td>\n",
       "      <td>0.0172</td>\n",
       "      <td>0.0332</td>\n",
       "      <td>0.0350</td>\n",
       "      <td>0.2146</td>\n",
       "      <td>1</td>\n",
       "      <td>0.3072</td>\n",
       "      <td>0.4596</td>\n",
       "      <td>0.2640</td>\n",
       "      <td>45500</td>\n",
       "      <td>24097</td>\n",
       "    </tr>\n",
       "    <tr>\n",
       "      <th>4</th>\n",
       "      <td>Alabama State University</td>\n",
       "      <td>Montgomery</td>\n",
       "      <td>AL</td>\n",
       "      <td>1.0</td>\n",
       "      <td>0.0</td>\n",
       "      <td>0.0</td>\n",
       "      <td>0</td>\n",
       "      <td>425.0</td>\n",
       "      <td>430.0</td>\n",
       "      <td>0.0</td>\n",
       "      <td>...</td>\n",
       "      <td>0.0098</td>\n",
       "      <td>0.0243</td>\n",
       "      <td>0.0137</td>\n",
       "      <td>0.0892</td>\n",
       "      <td>1</td>\n",
       "      <td>0.7347</td>\n",
       "      <td>0.7554</td>\n",
       "      <td>0.1270</td>\n",
       "      <td>26600</td>\n",
       "      <td>33118.5</td>\n",
       "    </tr>\n",
       "    <tr>\n",
       "      <th>...</th>\n",
       "      <td>...</td>\n",
       "      <td>...</td>\n",
       "      <td>...</td>\n",
       "      <td>...</td>\n",
       "      <td>...</td>\n",
       "      <td>...</td>\n",
       "      <td>...</td>\n",
       "      <td>...</td>\n",
       "      <td>...</td>\n",
       "      <td>...</td>\n",
       "      <td>...</td>\n",
       "      <td>...</td>\n",
       "      <td>...</td>\n",
       "      <td>...</td>\n",
       "      <td>...</td>\n",
       "      <td>...</td>\n",
       "      <td>...</td>\n",
       "      <td>...</td>\n",
       "      <td>...</td>\n",
       "      <td>...</td>\n",
       "      <td>...</td>\n",
       "    </tr>\n",
       "    <tr>\n",
       "      <th>7530</th>\n",
       "      <td>SAE Institute of Technology  San Francisco</td>\n",
       "      <td>Emeryville</td>\n",
       "      <td>CA</td>\n",
       "      <td>NaN</td>\n",
       "      <td>NaN</td>\n",
       "      <td>NaN</td>\n",
       "      <td>1</td>\n",
       "      <td>NaN</td>\n",
       "      <td>NaN</td>\n",
       "      <td>NaN</td>\n",
       "      <td>...</td>\n",
       "      <td>NaN</td>\n",
       "      <td>NaN</td>\n",
       "      <td>NaN</td>\n",
       "      <td>NaN</td>\n",
       "      <td>1</td>\n",
       "      <td>NaN</td>\n",
       "      <td>NaN</td>\n",
       "      <td>NaN</td>\n",
       "      <td>NaN</td>\n",
       "      <td>9500</td>\n",
       "    </tr>\n",
       "    <tr>\n",
       "      <th>7531</th>\n",
       "      <td>Rasmussen College - Overland Park</td>\n",
       "      <td>Overland Park</td>\n",
       "      <td>KS</td>\n",
       "      <td>NaN</td>\n",
       "      <td>NaN</td>\n",
       "      <td>NaN</td>\n",
       "      <td>1</td>\n",
       "      <td>NaN</td>\n",
       "      <td>NaN</td>\n",
       "      <td>NaN</td>\n",
       "      <td>...</td>\n",
       "      <td>NaN</td>\n",
       "      <td>NaN</td>\n",
       "      <td>NaN</td>\n",
       "      <td>NaN</td>\n",
       "      <td>1</td>\n",
       "      <td>NaN</td>\n",
       "      <td>NaN</td>\n",
       "      <td>NaN</td>\n",
       "      <td>NaN</td>\n",
       "      <td>21163</td>\n",
       "    </tr>\n",
       "    <tr>\n",
       "      <th>7532</th>\n",
       "      <td>National Personal Training Institute of Cleveland</td>\n",
       "      <td>Highland Heights</td>\n",
       "      <td>OH</td>\n",
       "      <td>NaN</td>\n",
       "      <td>NaN</td>\n",
       "      <td>NaN</td>\n",
       "      <td>1</td>\n",
       "      <td>NaN</td>\n",
       "      <td>NaN</td>\n",
       "      <td>NaN</td>\n",
       "      <td>...</td>\n",
       "      <td>NaN</td>\n",
       "      <td>NaN</td>\n",
       "      <td>NaN</td>\n",
       "      <td>NaN</td>\n",
       "      <td>1</td>\n",
       "      <td>NaN</td>\n",
       "      <td>NaN</td>\n",
       "      <td>NaN</td>\n",
       "      <td>NaN</td>\n",
       "      <td>6333</td>\n",
       "    </tr>\n",
       "    <tr>\n",
       "      <th>7533</th>\n",
       "      <td>Bay Area Medical Academy - San Jose Satellite ...</td>\n",
       "      <td>San Jose</td>\n",
       "      <td>CA</td>\n",
       "      <td>NaN</td>\n",
       "      <td>NaN</td>\n",
       "      <td>NaN</td>\n",
       "      <td>1</td>\n",
       "      <td>NaN</td>\n",
       "      <td>NaN</td>\n",
       "      <td>NaN</td>\n",
       "      <td>...</td>\n",
       "      <td>NaN</td>\n",
       "      <td>NaN</td>\n",
       "      <td>NaN</td>\n",
       "      <td>NaN</td>\n",
       "      <td>1</td>\n",
       "      <td>NaN</td>\n",
       "      <td>NaN</td>\n",
       "      <td>NaN</td>\n",
       "      <td>NaN</td>\n",
       "      <td>PrivacySuppressed</td>\n",
       "    </tr>\n",
       "    <tr>\n",
       "      <th>7534</th>\n",
       "      <td>Excel Learning Center-San Antonio South</td>\n",
       "      <td>San Antonio</td>\n",
       "      <td>TX</td>\n",
       "      <td>NaN</td>\n",
       "      <td>NaN</td>\n",
       "      <td>NaN</td>\n",
       "      <td>1</td>\n",
       "      <td>NaN</td>\n",
       "      <td>NaN</td>\n",
       "      <td>NaN</td>\n",
       "      <td>...</td>\n",
       "      <td>NaN</td>\n",
       "      <td>NaN</td>\n",
       "      <td>NaN</td>\n",
       "      <td>NaN</td>\n",
       "      <td>1</td>\n",
       "      <td>NaN</td>\n",
       "      <td>NaN</td>\n",
       "      <td>NaN</td>\n",
       "      <td>NaN</td>\n",
       "      <td>12125</td>\n",
       "    </tr>\n",
       "  </tbody>\n",
       "</table>\n",
       "<p>7535 rows × 27 columns</p>\n",
       "</div>"
      ],
      "text/plain": [
       "                                                 INSTNM              CITY  \\\n",
       "0                              Alabama A & M University            Normal   \n",
       "1                   University of Alabama at Birmingham        Birmingham   \n",
       "2                                    Amridge University        Montgomery   \n",
       "3                   University of Alabama in Huntsville        Huntsville   \n",
       "4                              Alabama State University        Montgomery   \n",
       "...                                                 ...               ...   \n",
       "7530         SAE Institute of Technology  San Francisco        Emeryville   \n",
       "7531                  Rasmussen College - Overland Park     Overland Park   \n",
       "7532  National Personal Training Institute of Cleveland  Highland Heights   \n",
       "7533  Bay Area Medical Academy - San Jose Satellite ...          San Jose   \n",
       "7534            Excel Learning Center-San Antonio South       San Antonio   \n",
       "\n",
       "     STABBR  HBCU  MENONLY  WOMENONLY  RELAFFIL  SATVRMID  SATMTMID  \\\n",
       "0        AL   1.0      0.0        0.0         0     424.0     420.0   \n",
       "1        AL   0.0      0.0        0.0         0     570.0     565.0   \n",
       "2        AL   0.0      0.0        0.0         1       NaN       NaN   \n",
       "3        AL   0.0      0.0        0.0         0     595.0     590.0   \n",
       "4        AL   1.0      0.0        0.0         0     425.0     430.0   \n",
       "...     ...   ...      ...        ...       ...       ...       ...   \n",
       "7530     CA   NaN      NaN        NaN         1       NaN       NaN   \n",
       "7531     KS   NaN      NaN        NaN         1       NaN       NaN   \n",
       "7532     OH   NaN      NaN        NaN         1       NaN       NaN   \n",
       "7533     CA   NaN      NaN        NaN         1       NaN       NaN   \n",
       "7534     TX   NaN      NaN        NaN         1       NaN       NaN   \n",
       "\n",
       "      DISTANCEONLY  ...  UGDS_2MOR  UGDS_NRA  UGDS_UNKN  PPTUG_EF  CURROPER  \\\n",
       "0              0.0  ...     0.0000    0.0059     0.0138    0.0656         1   \n",
       "1              0.0  ...     0.0368    0.0179     0.0100    0.2607         1   \n",
       "2              1.0  ...     0.0000    0.0000     0.2715    0.4536         1   \n",
       "3              0.0  ...     0.0172    0.0332     0.0350    0.2146         1   \n",
       "4              0.0  ...     0.0098    0.0243     0.0137    0.0892         1   \n",
       "...            ...  ...        ...       ...        ...       ...       ...   \n",
       "7530           NaN  ...        NaN       NaN        NaN       NaN         1   \n",
       "7531           NaN  ...        NaN       NaN        NaN       NaN         1   \n",
       "7532           NaN  ...        NaN       NaN        NaN       NaN         1   \n",
       "7533           NaN  ...        NaN       NaN        NaN       NaN         1   \n",
       "7534           NaN  ...        NaN       NaN        NaN       NaN         1   \n",
       "\n",
       "      PCTPELL  PCTFLOAN  UG25ABV  MD_EARN_WNE_P10  GRAD_DEBT_MDN_SUPP  \n",
       "0      0.7356    0.8284   0.1049            30300               33888  \n",
       "1      0.3460    0.5214   0.2422            39700             21941.5  \n",
       "2      0.6801    0.7795   0.8540            40100               23370  \n",
       "3      0.3072    0.4596   0.2640            45500               24097  \n",
       "4      0.7347    0.7554   0.1270            26600             33118.5  \n",
       "...       ...       ...      ...              ...                 ...  \n",
       "7530      NaN       NaN      NaN              NaN                9500  \n",
       "7531      NaN       NaN      NaN              NaN               21163  \n",
       "7532      NaN       NaN      NaN              NaN                6333  \n",
       "7533      NaN       NaN      NaN              NaN   PrivacySuppressed  \n",
       "7534      NaN       NaN      NaN              NaN               12125  \n",
       "\n",
       "[7535 rows x 27 columns]"
      ]
     },
     "execution_count": 2,
     "metadata": {},
     "output_type": "execute_result"
    }
   ],
   "source": [
    "df"
   ]
  },
  {
   "cell_type": "code",
   "execution_count": 6,
   "id": "8e40fac5-5395-41ef-bf14-1fc2d95d70f2",
   "metadata": {},
   "outputs": [
    {
     "data": {
      "text/plain": [
       "Index(['INSTNM', 'CITY', 'STABBR', 'HBCU', 'MENONLY', 'WOMENONLY', 'RELAFFIL',\n",
       "       'SATVRMID', 'SATMTMID', 'DISTANCEONLY', 'UGDS', 'UGDS_WHITE',\n",
       "       'UGDS_BLACK', 'UGDS_HISP', 'UGDS_ASIAN', 'UGDS_AIAN', 'UGDS_NHPI',\n",
       "       'UGDS_2MOR', 'UGDS_NRA', 'UGDS_UNKN', 'PPTUG_EF', 'CURROPER', 'PCTPELL',\n",
       "       'PCTFLOAN', 'UG25ABV', 'MD_EARN_WNE_P10', 'GRAD_DEBT_MDN_SUPP'],\n",
       "      dtype='object')"
      ]
     },
     "execution_count": 6,
     "metadata": {},
     "output_type": "execute_result"
    }
   ],
   "source": [
    "df.columns"
   ]
  },
  {
   "cell_type": "code",
   "execution_count": 8,
   "id": "ea7cfaf8-a336-4161-80c3-eb3d48001533",
   "metadata": {},
   "outputs": [],
   "source": [
    "df=df.set_index('INSTNM')\t"
   ]
  },
  {
   "cell_type": "code",
   "execution_count": 9,
   "id": "aa99d07b-661d-4092-9507-3eb7d5d33314",
   "metadata": {},
   "outputs": [
    {
     "data": {
      "text/plain": [
       "CITY                     0\n",
       "STABBR                   0\n",
       "HBCU                   371\n",
       "MENONLY                371\n",
       "WOMENONLY              371\n",
       "RELAFFIL                 0\n",
       "SATVRMID              6350\n",
       "SATMTMID              6339\n",
       "DISTANCEONLY           371\n",
       "UGDS                   661\n",
       "UGDS_WHITE             661\n",
       "UGDS_BLACK             661\n",
       "UGDS_HISP              661\n",
       "UGDS_ASIAN             661\n",
       "UGDS_AIAN              661\n",
       "UGDS_NHPI              661\n",
       "UGDS_2MOR              661\n",
       "UGDS_NRA               661\n",
       "UGDS_UNKN              661\n",
       "PPTUG_EF               682\n",
       "CURROPER                 0\n",
       "PCTPELL                686\n",
       "PCTFLOAN               686\n",
       "UG25ABV                817\n",
       "MD_EARN_WNE_P10       1122\n",
       "GRAD_DEBT_MDN_SUPP      32\n",
       "dtype: int64"
      ]
     },
     "execution_count": 9,
     "metadata": {},
     "output_type": "execute_result"
    }
   ],
   "source": [
    "df.isnull().sum()"
   ]
  },
  {
   "cell_type": "code",
   "execution_count": 10,
   "id": "d7f2ef4d-e0f0-4259-a125-d98bda8e810e",
   "metadata": {},
   "outputs": [
    {
     "data": {
      "text/plain": [
       "count    7164.000000\n",
       "mean        0.014238\n",
       "std         0.118478\n",
       "min         0.000000\n",
       "25%         0.000000\n",
       "50%         0.000000\n",
       "75%         0.000000\n",
       "max         1.000000\n",
       "Name: HBCU, dtype: float64"
      ]
     },
     "execution_count": 10,
     "metadata": {},
     "output_type": "execute_result"
    }
   ],
   "source": [
    "df.HBCU.fillna(0)\n",
    "df.HBCU.describe()"
   ]
  },
  {
   "cell_type": "code",
   "execution_count": null,
   "id": "a1eeadb5-0bf6-4424-9b10-b9b84b7d54bc",
   "metadata": {},
   "outputs": [],
   "source": []
  },
  {
   "cell_type": "code",
   "execution_count": 11,
   "id": "6b48334a-c137-4665-9c42-87a2774d81c6",
   "metadata": {},
   "outputs": [
    {
     "data": {
      "text/plain": [
       "CITY                     0\n",
       "STABBR                   0\n",
       "HBCU                   371\n",
       "MENONLY                371\n",
       "WOMENONLY              371\n",
       "RELAFFIL                 0\n",
       "SATVRMID              6350\n",
       "SATMTMID              6339\n",
       "DISTANCEONLY           371\n",
       "UGDS                   661\n",
       "UGDS_WHITE             661\n",
       "UGDS_BLACK             661\n",
       "UGDS_HISP              661\n",
       "UGDS_ASIAN             661\n",
       "UGDS_AIAN              661\n",
       "UGDS_NHPI              661\n",
       "UGDS_2MOR              661\n",
       "UGDS_NRA               661\n",
       "UGDS_UNKN              661\n",
       "PPTUG_EF               682\n",
       "CURROPER                 0\n",
       "PCTPELL                686\n",
       "PCTFLOAN               686\n",
       "UG25ABV                817\n",
       "MD_EARN_WNE_P10       1122\n",
       "GRAD_DEBT_MDN_SUPP      32\n",
       "dtype: int64"
      ]
     },
     "execution_count": 11,
     "metadata": {},
     "output_type": "execute_result"
    }
   ],
   "source": [
    "df.isnull().sum()"
   ]
  },
  {
   "cell_type": "code",
   "execution_count": 12,
   "id": "149e6f66-2e29-4b45-8973-8fd2e17195cd",
   "metadata": {},
   "outputs": [
    {
     "data": {
      "text/plain": [
       "INSTNM\n",
       "Angeles Institute                       ARTESIA\n",
       "Northern State University              Aberdeen\n",
       "Presentation College                   Aberdeen\n",
       "Grays Harbor College                   Aberdeen\n",
       "McMurry University                      Abilene\n",
       "                                        ...    \n",
       "Yukon Beauty College Inc                  Yukon\n",
       "Arizona Western College                    Yuma\n",
       "Zane State College                   Zanesville\n",
       "Ohio University-Zanesville Campus    Zanesville\n",
       "Mid-EastCTC-Adult Education          Zanesville\n",
       "Name: CITY, Length: 7535, dtype: object"
      ]
     },
     "execution_count": 12,
     "metadata": {},
     "output_type": "execute_result"
    }
   ],
   "source": [
    "df.CITY.sort_values()"
   ]
  },
  {
   "cell_type": "code",
   "execution_count": 13,
   "id": "14df78f6-7c28-4745-b4c9-759825ad8e95",
   "metadata": {},
   "outputs": [
    {
     "data": {
      "text/plain": [
       "INSTNM\n",
       "Innovations Design Academy                                0.0\n",
       "Regency Beauty Institute-Eastgate                         0.0\n",
       "Regency Beauty Institute-Tri-County                       0.0\n",
       "Regency Beauty Institute-Avon                             0.0\n",
       "College of Micronesia-FSM                                 0.0\n",
       "                                                         ... \n",
       "SAE Institute of Technology  San Francisco                NaN\n",
       "Rasmussen College - Overland Park                         NaN\n",
       "National Personal Training Institute of Cleveland         NaN\n",
       "Bay Area Medical Academy - San Jose Satellite Location    NaN\n",
       "Excel Learning Center-San Antonio South                   NaN\n",
       "Name: UGDS_HISP, Length: 7535, dtype: float64"
      ]
     },
     "execution_count": 13,
     "metadata": {},
     "output_type": "execute_result"
    }
   ],
   "source": [
    "df.UGDS_HISP.sort_values()"
   ]
  },
  {
   "cell_type": "code",
   "execution_count": 14,
   "id": "d671c29e-ee09-4b4f-84a9-18703f7b4450",
   "metadata": {},
   "outputs": [
    {
     "name": "stderr",
     "output_type": "stream",
     "text": [
      "C:\\Users\\Lenovo\\anaconda\\lib\\site-packages\\IPython\\core\\interactiveshell.py:3444: DtypeWarning: Columns (22,32) have mixed types.Specify dtype option on import or set low_memory=False.\n",
      "  exec(code_obj, self.user_global_ns, self.user_ns)\n"
     ]
    }
   ],
   "source": [
    "# modules we'll use\n",
    "import pandas as pd\n",
    "import numpy as np\n",
    "\n",
    "# read in all our data\n",
    "sf_permits =pd.read_csv('Downloads/Building_Permits (1).csv')\n",
    "\n",
    "# set seed for reproducibility\n"
   ]
  },
  {
   "cell_type": "code",
   "execution_count": 15,
   "id": "7623c804-f3b2-436d-8bbb-80ec590e2850",
   "metadata": {},
   "outputs": [
    {
     "data": {
      "text/html": [
       "<div>\n",
       "<style scoped>\n",
       "    .dataframe tbody tr th:only-of-type {\n",
       "        vertical-align: middle;\n",
       "    }\n",
       "\n",
       "    .dataframe tbody tr th {\n",
       "        vertical-align: top;\n",
       "    }\n",
       "\n",
       "    .dataframe thead th {\n",
       "        text-align: right;\n",
       "    }\n",
       "</style>\n",
       "<table border=\"1\" class=\"dataframe\">\n",
       "  <thead>\n",
       "    <tr style=\"text-align: right;\">\n",
       "      <th></th>\n",
       "      <th>Permit Number</th>\n",
       "      <th>Permit Type</th>\n",
       "      <th>Permit Type Definition</th>\n",
       "      <th>Permit Creation Date</th>\n",
       "      <th>Block</th>\n",
       "      <th>Lot</th>\n",
       "      <th>Street Number</th>\n",
       "      <th>Street Number Suffix</th>\n",
       "      <th>Street Name</th>\n",
       "      <th>Street Suffix</th>\n",
       "      <th>...</th>\n",
       "      <th>Existing Construction Type</th>\n",
       "      <th>Existing Construction Type Description</th>\n",
       "      <th>Proposed Construction Type</th>\n",
       "      <th>Proposed Construction Type Description</th>\n",
       "      <th>Site Permit</th>\n",
       "      <th>Supervisor District</th>\n",
       "      <th>Neighborhoods - Analysis Boundaries</th>\n",
       "      <th>Zipcode</th>\n",
       "      <th>Location</th>\n",
       "      <th>Record ID</th>\n",
       "    </tr>\n",
       "  </thead>\n",
       "  <tbody>\n",
       "    <tr>\n",
       "      <th>0</th>\n",
       "      <td>201505065519</td>\n",
       "      <td>4</td>\n",
       "      <td>sign - erect</td>\n",
       "      <td>05/06/2015</td>\n",
       "      <td>0326</td>\n",
       "      <td>023</td>\n",
       "      <td>140</td>\n",
       "      <td>NaN</td>\n",
       "      <td>Ellis</td>\n",
       "      <td>St</td>\n",
       "      <td>...</td>\n",
       "      <td>3.0</td>\n",
       "      <td>constr type 3</td>\n",
       "      <td>NaN</td>\n",
       "      <td>NaN</td>\n",
       "      <td>NaN</td>\n",
       "      <td>3.0</td>\n",
       "      <td>Tenderloin</td>\n",
       "      <td>94102.0</td>\n",
       "      <td>(37.785719256680785, -122.40852313194863)</td>\n",
       "      <td>1380611233945</td>\n",
       "    </tr>\n",
       "    <tr>\n",
       "      <th>1</th>\n",
       "      <td>201604195146</td>\n",
       "      <td>4</td>\n",
       "      <td>sign - erect</td>\n",
       "      <td>04/19/2016</td>\n",
       "      <td>0306</td>\n",
       "      <td>007</td>\n",
       "      <td>440</td>\n",
       "      <td>NaN</td>\n",
       "      <td>Geary</td>\n",
       "      <td>St</td>\n",
       "      <td>...</td>\n",
       "      <td>3.0</td>\n",
       "      <td>constr type 3</td>\n",
       "      <td>NaN</td>\n",
       "      <td>NaN</td>\n",
       "      <td>NaN</td>\n",
       "      <td>3.0</td>\n",
       "      <td>Tenderloin</td>\n",
       "      <td>94102.0</td>\n",
       "      <td>(37.78733980600732, -122.41063199757738)</td>\n",
       "      <td>1420164406718</td>\n",
       "    </tr>\n",
       "    <tr>\n",
       "      <th>2</th>\n",
       "      <td>201605278609</td>\n",
       "      <td>3</td>\n",
       "      <td>additions alterations or repairs</td>\n",
       "      <td>05/27/2016</td>\n",
       "      <td>0595</td>\n",
       "      <td>203</td>\n",
       "      <td>1647</td>\n",
       "      <td>NaN</td>\n",
       "      <td>Pacific</td>\n",
       "      <td>Av</td>\n",
       "      <td>...</td>\n",
       "      <td>1.0</td>\n",
       "      <td>constr type 1</td>\n",
       "      <td>1.0</td>\n",
       "      <td>constr type 1</td>\n",
       "      <td>NaN</td>\n",
       "      <td>3.0</td>\n",
       "      <td>Russian Hill</td>\n",
       "      <td>94109.0</td>\n",
       "      <td>(37.7946573324287, -122.42232562979227)</td>\n",
       "      <td>1424856504716</td>\n",
       "    </tr>\n",
       "    <tr>\n",
       "      <th>3</th>\n",
       "      <td>201611072166</td>\n",
       "      <td>8</td>\n",
       "      <td>otc alterations permit</td>\n",
       "      <td>11/07/2016</td>\n",
       "      <td>0156</td>\n",
       "      <td>011</td>\n",
       "      <td>1230</td>\n",
       "      <td>NaN</td>\n",
       "      <td>Pacific</td>\n",
       "      <td>Av</td>\n",
       "      <td>...</td>\n",
       "      <td>5.0</td>\n",
       "      <td>wood frame (5)</td>\n",
       "      <td>5.0</td>\n",
       "      <td>wood frame (5)</td>\n",
       "      <td>NaN</td>\n",
       "      <td>3.0</td>\n",
       "      <td>Nob Hill</td>\n",
       "      <td>94109.0</td>\n",
       "      <td>(37.79595867909168, -122.41557405519474)</td>\n",
       "      <td>1443574295566</td>\n",
       "    </tr>\n",
       "    <tr>\n",
       "      <th>4</th>\n",
       "      <td>201611283529</td>\n",
       "      <td>6</td>\n",
       "      <td>demolitions</td>\n",
       "      <td>11/28/2016</td>\n",
       "      <td>0342</td>\n",
       "      <td>001</td>\n",
       "      <td>950</td>\n",
       "      <td>NaN</td>\n",
       "      <td>Market</td>\n",
       "      <td>St</td>\n",
       "      <td>...</td>\n",
       "      <td>3.0</td>\n",
       "      <td>constr type 3</td>\n",
       "      <td>NaN</td>\n",
       "      <td>NaN</td>\n",
       "      <td>NaN</td>\n",
       "      <td>6.0</td>\n",
       "      <td>Tenderloin</td>\n",
       "      <td>94102.0</td>\n",
       "      <td>(37.78315261897309, -122.40950883997789)</td>\n",
       "      <td>144548169992</td>\n",
       "    </tr>\n",
       "    <tr>\n",
       "      <th>...</th>\n",
       "      <td>...</td>\n",
       "      <td>...</td>\n",
       "      <td>...</td>\n",
       "      <td>...</td>\n",
       "      <td>...</td>\n",
       "      <td>...</td>\n",
       "      <td>...</td>\n",
       "      <td>...</td>\n",
       "      <td>...</td>\n",
       "      <td>...</td>\n",
       "      <td>...</td>\n",
       "      <td>...</td>\n",
       "      <td>...</td>\n",
       "      <td>...</td>\n",
       "      <td>...</td>\n",
       "      <td>...</td>\n",
       "      <td>...</td>\n",
       "      <td>...</td>\n",
       "      <td>...</td>\n",
       "      <td>...</td>\n",
       "      <td>...</td>\n",
       "    </tr>\n",
       "    <tr>\n",
       "      <th>198895</th>\n",
       "      <td>M862628</td>\n",
       "      <td>8</td>\n",
       "      <td>otc alterations permit</td>\n",
       "      <td>12/05/2017</td>\n",
       "      <td>0113</td>\n",
       "      <td>017A</td>\n",
       "      <td>1228</td>\n",
       "      <td>NaN</td>\n",
       "      <td>Montgomery</td>\n",
       "      <td>St</td>\n",
       "      <td>...</td>\n",
       "      <td>NaN</td>\n",
       "      <td>NaN</td>\n",
       "      <td>NaN</td>\n",
       "      <td>NaN</td>\n",
       "      <td>NaN</td>\n",
       "      <td>NaN</td>\n",
       "      <td>NaN</td>\n",
       "      <td>NaN</td>\n",
       "      <td>NaN</td>\n",
       "      <td>1489337276729</td>\n",
       "    </tr>\n",
       "    <tr>\n",
       "      <th>198896</th>\n",
       "      <td>201712055595</td>\n",
       "      <td>8</td>\n",
       "      <td>otc alterations permit</td>\n",
       "      <td>12/05/2017</td>\n",
       "      <td>0271</td>\n",
       "      <td>014</td>\n",
       "      <td>580</td>\n",
       "      <td>NaN</td>\n",
       "      <td>Bush</td>\n",
       "      <td>St</td>\n",
       "      <td>...</td>\n",
       "      <td>5.0</td>\n",
       "      <td>wood frame (5)</td>\n",
       "      <td>5.0</td>\n",
       "      <td>wood frame (5)</td>\n",
       "      <td>NaN</td>\n",
       "      <td>NaN</td>\n",
       "      <td>NaN</td>\n",
       "      <td>NaN</td>\n",
       "      <td>NaN</td>\n",
       "      <td>1489462354993</td>\n",
       "    </tr>\n",
       "    <tr>\n",
       "      <th>198897</th>\n",
       "      <td>M863507</td>\n",
       "      <td>8</td>\n",
       "      <td>otc alterations permit</td>\n",
       "      <td>12/06/2017</td>\n",
       "      <td>4318</td>\n",
       "      <td>019</td>\n",
       "      <td>1568</td>\n",
       "      <td>NaN</td>\n",
       "      <td>Indiana</td>\n",
       "      <td>St</td>\n",
       "      <td>...</td>\n",
       "      <td>NaN</td>\n",
       "      <td>NaN</td>\n",
       "      <td>NaN</td>\n",
       "      <td>NaN</td>\n",
       "      <td>NaN</td>\n",
       "      <td>NaN</td>\n",
       "      <td>NaN</td>\n",
       "      <td>NaN</td>\n",
       "      <td>NaN</td>\n",
       "      <td>1489539379952</td>\n",
       "    </tr>\n",
       "    <tr>\n",
       "      <th>198898</th>\n",
       "      <td>M863747</td>\n",
       "      <td>8</td>\n",
       "      <td>otc alterations permit</td>\n",
       "      <td>12/06/2017</td>\n",
       "      <td>0298</td>\n",
       "      <td>029</td>\n",
       "      <td>795</td>\n",
       "      <td>NaN</td>\n",
       "      <td>Sutter</td>\n",
       "      <td>St</td>\n",
       "      <td>...</td>\n",
       "      <td>NaN</td>\n",
       "      <td>NaN</td>\n",
       "      <td>NaN</td>\n",
       "      <td>NaN</td>\n",
       "      <td>NaN</td>\n",
       "      <td>NaN</td>\n",
       "      <td>NaN</td>\n",
       "      <td>NaN</td>\n",
       "      <td>NaN</td>\n",
       "      <td>1489608233656</td>\n",
       "    </tr>\n",
       "    <tr>\n",
       "      <th>198899</th>\n",
       "      <td>M864287</td>\n",
       "      <td>8</td>\n",
       "      <td>otc alterations permit</td>\n",
       "      <td>12/07/2017</td>\n",
       "      <td>0160</td>\n",
       "      <td>006</td>\n",
       "      <td>838</td>\n",
       "      <td>NaN</td>\n",
       "      <td>Pacific</td>\n",
       "      <td>Av</td>\n",
       "      <td>...</td>\n",
       "      <td>NaN</td>\n",
       "      <td>NaN</td>\n",
       "      <td>NaN</td>\n",
       "      <td>NaN</td>\n",
       "      <td>NaN</td>\n",
       "      <td>NaN</td>\n",
       "      <td>NaN</td>\n",
       "      <td>NaN</td>\n",
       "      <td>NaN</td>\n",
       "      <td>1489796283803</td>\n",
       "    </tr>\n",
       "  </tbody>\n",
       "</table>\n",
       "<p>198900 rows × 43 columns</p>\n",
       "</div>"
      ],
      "text/plain": [
       "       Permit Number  Permit Type            Permit Type Definition  \\\n",
       "0       201505065519            4                      sign - erect   \n",
       "1       201604195146            4                      sign - erect   \n",
       "2       201605278609            3  additions alterations or repairs   \n",
       "3       201611072166            8            otc alterations permit   \n",
       "4       201611283529            6                       demolitions   \n",
       "...              ...          ...                               ...   \n",
       "198895       M862628            8            otc alterations permit   \n",
       "198896  201712055595            8            otc alterations permit   \n",
       "198897       M863507            8            otc alterations permit   \n",
       "198898       M863747            8            otc alterations permit   \n",
       "198899       M864287            8            otc alterations permit   \n",
       "\n",
       "       Permit Creation Date Block   Lot  Street Number Street Number Suffix  \\\n",
       "0                05/06/2015  0326   023            140                  NaN   \n",
       "1                04/19/2016  0306   007            440                  NaN   \n",
       "2                05/27/2016  0595   203           1647                  NaN   \n",
       "3                11/07/2016  0156   011           1230                  NaN   \n",
       "4                11/28/2016  0342   001            950                  NaN   \n",
       "...                     ...   ...   ...            ...                  ...   \n",
       "198895           12/05/2017  0113  017A           1228                  NaN   \n",
       "198896           12/05/2017  0271   014            580                  NaN   \n",
       "198897           12/06/2017  4318   019           1568                  NaN   \n",
       "198898           12/06/2017  0298   029            795                  NaN   \n",
       "198899           12/07/2017  0160   006            838                  NaN   \n",
       "\n",
       "       Street Name Street Suffix  ...  Existing Construction Type  \\\n",
       "0            Ellis            St  ...                         3.0   \n",
       "1            Geary            St  ...                         3.0   \n",
       "2          Pacific            Av  ...                         1.0   \n",
       "3          Pacific            Av  ...                         5.0   \n",
       "4           Market            St  ...                         3.0   \n",
       "...            ...           ...  ...                         ...   \n",
       "198895  Montgomery            St  ...                         NaN   \n",
       "198896        Bush            St  ...                         5.0   \n",
       "198897     Indiana            St  ...                         NaN   \n",
       "198898      Sutter            St  ...                         NaN   \n",
       "198899     Pacific            Av  ...                         NaN   \n",
       "\n",
       "       Existing Construction Type Description Proposed Construction Type  \\\n",
       "0                               constr type 3                        NaN   \n",
       "1                               constr type 3                        NaN   \n",
       "2                               constr type 1                        1.0   \n",
       "3                              wood frame (5)                        5.0   \n",
       "4                               constr type 3                        NaN   \n",
       "...                                       ...                        ...   \n",
       "198895                                    NaN                        NaN   \n",
       "198896                         wood frame (5)                        5.0   \n",
       "198897                                    NaN                        NaN   \n",
       "198898                                    NaN                        NaN   \n",
       "198899                                    NaN                        NaN   \n",
       "\n",
       "       Proposed Construction Type Description Site Permit Supervisor District  \\\n",
       "0                                         NaN         NaN                 3.0   \n",
       "1                                         NaN         NaN                 3.0   \n",
       "2                               constr type 1         NaN                 3.0   \n",
       "3                              wood frame (5)         NaN                 3.0   \n",
       "4                                         NaN         NaN                 6.0   \n",
       "...                                       ...         ...                 ...   \n",
       "198895                                    NaN         NaN                 NaN   \n",
       "198896                         wood frame (5)         NaN                 NaN   \n",
       "198897                                    NaN         NaN                 NaN   \n",
       "198898                                    NaN         NaN                 NaN   \n",
       "198899                                    NaN         NaN                 NaN   \n",
       "\n",
       "       Neighborhoods - Analysis Boundaries  Zipcode  \\\n",
       "0                               Tenderloin  94102.0   \n",
       "1                               Tenderloin  94102.0   \n",
       "2                             Russian Hill  94109.0   \n",
       "3                                 Nob Hill  94109.0   \n",
       "4                               Tenderloin  94102.0   \n",
       "...                                    ...      ...   \n",
       "198895                                 NaN      NaN   \n",
       "198896                                 NaN      NaN   \n",
       "198897                                 NaN      NaN   \n",
       "198898                                 NaN      NaN   \n",
       "198899                                 NaN      NaN   \n",
       "\n",
       "                                         Location      Record ID  \n",
       "0       (37.785719256680785, -122.40852313194863)  1380611233945  \n",
       "1        (37.78733980600732, -122.41063199757738)  1420164406718  \n",
       "2         (37.7946573324287, -122.42232562979227)  1424856504716  \n",
       "3        (37.79595867909168, -122.41557405519474)  1443574295566  \n",
       "4        (37.78315261897309, -122.40950883997789)   144548169992  \n",
       "...                                           ...            ...  \n",
       "198895                                        NaN  1489337276729  \n",
       "198896                                        NaN  1489462354993  \n",
       "198897                                        NaN  1489539379952  \n",
       "198898                                        NaN  1489608233656  \n",
       "198899                                        NaN  1489796283803  \n",
       "\n",
       "[198900 rows x 43 columns]"
      ]
     },
     "execution_count": 15,
     "metadata": {},
     "output_type": "execute_result"
    }
   ],
   "source": [
    "sf_permits"
   ]
  },
  {
   "cell_type": "code",
   "execution_count": null,
   "id": "98c77c22-372e-4d6c-9266-71d2718b772f",
   "metadata": {},
   "outputs": [],
   "source": []
  },
  {
   "cell_type": "code",
   "execution_count": 16,
   "id": "098257b8-03f1-4162-a62a-b1967a04ace1",
   "metadata": {},
   "outputs": [],
   "source": [
    "shape=sf_permits.shape"
   ]
  },
  {
   "cell_type": "code",
   "execution_count": 17,
   "id": "a3fe2b6d-af14-4246-b5d8-799b0711b745",
   "metadata": {},
   "outputs": [
    {
     "data": {
      "text/plain": [
       "0.2626002315058403"
      ]
     },
     "execution_count": 17,
     "metadata": {},
     "output_type": "execute_result"
    }
   ],
   "source": [
    "x=(sf_permits.isnull().sum().sum())/(shape[0]*shape[1])\n",
    "x"
   ]
  },
  {
   "cell_type": "code",
   "execution_count": 18,
   "id": "79219615-1df4-4493-9389-98a22978367d",
   "metadata": {},
   "outputs": [],
   "source": [
    "sf_permits=sf_permits.dropna(axis=0)"
   ]
  },
  {
   "cell_type": "code",
   "execution_count": 19,
   "id": "6d8b25be-6e01-4fd4-bf6a-235d6a87de5b",
   "metadata": {},
   "outputs": [
    {
     "data": {
      "text/html": [
       "<div>\n",
       "<style scoped>\n",
       "    .dataframe tbody tr th:only-of-type {\n",
       "        vertical-align: middle;\n",
       "    }\n",
       "\n",
       "    .dataframe tbody tr th {\n",
       "        vertical-align: top;\n",
       "    }\n",
       "\n",
       "    .dataframe thead th {\n",
       "        text-align: right;\n",
       "    }\n",
       "</style>\n",
       "<table border=\"1\" class=\"dataframe\">\n",
       "  <thead>\n",
       "    <tr style=\"text-align: right;\">\n",
       "      <th></th>\n",
       "      <th>Permit Number</th>\n",
       "      <th>Permit Type</th>\n",
       "      <th>Permit Type Definition</th>\n",
       "      <th>Permit Creation Date</th>\n",
       "      <th>Block</th>\n",
       "      <th>Lot</th>\n",
       "      <th>Street Number</th>\n",
       "      <th>Street Number Suffix</th>\n",
       "      <th>Street Name</th>\n",
       "      <th>Street Suffix</th>\n",
       "      <th>...</th>\n",
       "      <th>Existing Construction Type</th>\n",
       "      <th>Existing Construction Type Description</th>\n",
       "      <th>Proposed Construction Type</th>\n",
       "      <th>Proposed Construction Type Description</th>\n",
       "      <th>Site Permit</th>\n",
       "      <th>Supervisor District</th>\n",
       "      <th>Neighborhoods - Analysis Boundaries</th>\n",
       "      <th>Zipcode</th>\n",
       "      <th>Location</th>\n",
       "      <th>Record ID</th>\n",
       "    </tr>\n",
       "  </thead>\n",
       "  <tbody>\n",
       "  </tbody>\n",
       "</table>\n",
       "<p>0 rows × 43 columns</p>\n",
       "</div>"
      ],
      "text/plain": [
       "Empty DataFrame\n",
       "Columns: [Permit Number, Permit Type, Permit Type Definition, Permit Creation Date, Block, Lot, Street Number, Street Number Suffix, Street Name, Street Suffix, Unit, Unit Suffix, Description, Current Status, Current Status Date, Filed Date, Issued Date, Completed Date, First Construction Document Date, Structural Notification, Number of Existing Stories, Number of Proposed Stories, Voluntary Soft-Story Retrofit, Fire Only Permit, Permit Expiration Date, Estimated Cost, Revised Cost, Existing Use, Existing Units, Proposed Use, Proposed Units, Plansets, TIDF Compliance, Existing Construction Type, Existing Construction Type Description, Proposed Construction Type, Proposed Construction Type Description, Site Permit, Supervisor District, Neighborhoods - Analysis Boundaries, Zipcode, Location, Record ID]\n",
       "Index: []\n",
       "\n",
       "[0 rows x 43 columns]"
      ]
     },
     "execution_count": 19,
     "metadata": {},
     "output_type": "execute_result"
    }
   ],
   "source": [
    "sf_permits"
   ]
  },
  {
   "cell_type": "code",
   "execution_count": 20,
   "id": "7b1f5d90-c2ec-48aa-85cf-a572492837a2",
   "metadata": {},
   "outputs": [],
   "source": [
    "sf_permits_with_na_dropped =sf_permits.dropna(axis=1)"
   ]
  },
  {
   "cell_type": "code",
   "execution_count": 21,
   "id": "7adc60d9-a1d9-435e-bba9-e1dad7ea3f5f",
   "metadata": {},
   "outputs": [
    {
     "data": {
      "text/html": [
       "<div>\n",
       "<style scoped>\n",
       "    .dataframe tbody tr th:only-of-type {\n",
       "        vertical-align: middle;\n",
       "    }\n",
       "\n",
       "    .dataframe tbody tr th {\n",
       "        vertical-align: top;\n",
       "    }\n",
       "\n",
       "    .dataframe thead th {\n",
       "        text-align: right;\n",
       "    }\n",
       "</style>\n",
       "<table border=\"1\" class=\"dataframe\">\n",
       "  <thead>\n",
       "    <tr style=\"text-align: right;\">\n",
       "      <th></th>\n",
       "      <th>Permit Number</th>\n",
       "      <th>Permit Type</th>\n",
       "      <th>Permit Type Definition</th>\n",
       "      <th>Permit Creation Date</th>\n",
       "      <th>Block</th>\n",
       "      <th>Lot</th>\n",
       "      <th>Street Number</th>\n",
       "      <th>Street Number Suffix</th>\n",
       "      <th>Street Name</th>\n",
       "      <th>Street Suffix</th>\n",
       "      <th>...</th>\n",
       "      <th>Existing Construction Type</th>\n",
       "      <th>Existing Construction Type Description</th>\n",
       "      <th>Proposed Construction Type</th>\n",
       "      <th>Proposed Construction Type Description</th>\n",
       "      <th>Site Permit</th>\n",
       "      <th>Supervisor District</th>\n",
       "      <th>Neighborhoods - Analysis Boundaries</th>\n",
       "      <th>Zipcode</th>\n",
       "      <th>Location</th>\n",
       "      <th>Record ID</th>\n",
       "    </tr>\n",
       "  </thead>\n",
       "  <tbody>\n",
       "  </tbody>\n",
       "</table>\n",
       "<p>0 rows × 43 columns</p>\n",
       "</div>"
      ],
      "text/plain": [
       "Empty DataFrame\n",
       "Columns: [Permit Number, Permit Type, Permit Type Definition, Permit Creation Date, Block, Lot, Street Number, Street Number Suffix, Street Name, Street Suffix, Unit, Unit Suffix, Description, Current Status, Current Status Date, Filed Date, Issued Date, Completed Date, First Construction Document Date, Structural Notification, Number of Existing Stories, Number of Proposed Stories, Voluntary Soft-Story Retrofit, Fire Only Permit, Permit Expiration Date, Estimated Cost, Revised Cost, Existing Use, Existing Units, Proposed Use, Proposed Units, Plansets, TIDF Compliance, Existing Construction Type, Existing Construction Type Description, Proposed Construction Type, Proposed Construction Type Description, Site Permit, Supervisor District, Neighborhoods - Analysis Boundaries, Zipcode, Location, Record ID]\n",
       "Index: []\n",
       "\n",
       "[0 rows x 43 columns]"
      ]
     },
     "execution_count": 21,
     "metadata": {},
     "output_type": "execute_result"
    }
   ],
   "source": [
    "sf_permits_with_na_dropped"
   ]
  },
  {
   "cell_type": "code",
   "execution_count": 22,
   "id": "c665a262-c903-40ce-b61b-860cd9492741",
   "metadata": {},
   "outputs": [
    {
     "name": "stdout",
     "output_type": "stream",
     "text": [
      "Setup Complete\n"
     ]
    }
   ],
   "source": [
    "import pandas as pd\n",
    "pd.plotting.register_matplotlib_converters()\n",
    "import matplotlib.pyplot as plt\n",
    "%matplotlib inline\n",
    "import seaborn as sns\n",
    "print(\"Setup Complete\")"
   ]
  },
  {
   "cell_type": "code",
   "execution_count": 23,
   "id": "a87a3bec-1b27-48d4-b6c9-38a5be923a9c",
   "metadata": {},
   "outputs": [],
   "source": [
    "# Path of the file to read\n",
    "candy_filepath =' Downloads/candy.csv'\n",
    "\n",
    "# Fill in the line below to read the file into a variable candy_data\n",
    "candy_data =pd.read_csv('Downloads/candy.csv')\n"
   ]
  },
  {
   "cell_type": "code",
   "execution_count": 24,
   "id": "5f7ca2be-5808-4a2e-baab-7524538ef883",
   "metadata": {},
   "outputs": [
    {
     "data": {
      "text/plain": [
       "0.73199999"
      ]
     },
     "execution_count": 24,
     "metadata": {},
     "output_type": "execute_result"
    }
   ],
   "source": [
    "candy_data.iloc[0,11]"
   ]
  },
  {
   "cell_type": "code",
   "execution_count": 25,
   "id": "adbc5d23-5c89-4129-81a6-3023b33f27fb",
   "metadata": {},
   "outputs": [
    {
     "data": {
      "text/html": [
       "<div>\n",
       "<style scoped>\n",
       "    .dataframe tbody tr th:only-of-type {\n",
       "        vertical-align: middle;\n",
       "    }\n",
       "\n",
       "    .dataframe tbody tr th {\n",
       "        vertical-align: top;\n",
       "    }\n",
       "\n",
       "    .dataframe thead th {\n",
       "        text-align: right;\n",
       "    }\n",
       "</style>\n",
       "<table border=\"1\" class=\"dataframe\">\n",
       "  <thead>\n",
       "    <tr style=\"text-align: right;\">\n",
       "      <th></th>\n",
       "      <th>id</th>\n",
       "      <th>competitorname</th>\n",
       "      <th>chocolate</th>\n",
       "      <th>fruity</th>\n",
       "      <th>caramel</th>\n",
       "      <th>peanutyalmondy</th>\n",
       "      <th>nougat</th>\n",
       "      <th>crispedricewafer</th>\n",
       "      <th>hard</th>\n",
       "      <th>bar</th>\n",
       "      <th>pluribus</th>\n",
       "      <th>sugarpercent</th>\n",
       "      <th>pricepercent</th>\n",
       "      <th>winpercent</th>\n",
       "    </tr>\n",
       "  </thead>\n",
       "  <tbody>\n",
       "    <tr>\n",
       "      <th>0</th>\n",
       "      <td>0</td>\n",
       "      <td>100 Grand</td>\n",
       "      <td>Yes</td>\n",
       "      <td>No</td>\n",
       "      <td>Yes</td>\n",
       "      <td>No</td>\n",
       "      <td>No</td>\n",
       "      <td>Yes</td>\n",
       "      <td>No</td>\n",
       "      <td>Yes</td>\n",
       "      <td>No</td>\n",
       "      <td>0.732</td>\n",
       "      <td>0.860</td>\n",
       "      <td>66.971725</td>\n",
       "    </tr>\n",
       "    <tr>\n",
       "      <th>1</th>\n",
       "      <td>1</td>\n",
       "      <td>3 Musketeers</td>\n",
       "      <td>Yes</td>\n",
       "      <td>No</td>\n",
       "      <td>No</td>\n",
       "      <td>No</td>\n",
       "      <td>Yes</td>\n",
       "      <td>No</td>\n",
       "      <td>No</td>\n",
       "      <td>Yes</td>\n",
       "      <td>No</td>\n",
       "      <td>0.604</td>\n",
       "      <td>0.511</td>\n",
       "      <td>67.602936</td>\n",
       "    </tr>\n",
       "    <tr>\n",
       "      <th>2</th>\n",
       "      <td>2</td>\n",
       "      <td>Air Heads</td>\n",
       "      <td>No</td>\n",
       "      <td>Yes</td>\n",
       "      <td>No</td>\n",
       "      <td>No</td>\n",
       "      <td>No</td>\n",
       "      <td>No</td>\n",
       "      <td>No</td>\n",
       "      <td>No</td>\n",
       "      <td>No</td>\n",
       "      <td>0.906</td>\n",
       "      <td>0.511</td>\n",
       "      <td>52.341465</td>\n",
       "    </tr>\n",
       "    <tr>\n",
       "      <th>3</th>\n",
       "      <td>3</td>\n",
       "      <td>Almond Joy</td>\n",
       "      <td>Yes</td>\n",
       "      <td>No</td>\n",
       "      <td>No</td>\n",
       "      <td>Yes</td>\n",
       "      <td>No</td>\n",
       "      <td>No</td>\n",
       "      <td>No</td>\n",
       "      <td>Yes</td>\n",
       "      <td>No</td>\n",
       "      <td>0.465</td>\n",
       "      <td>0.767</td>\n",
       "      <td>50.347546</td>\n",
       "    </tr>\n",
       "    <tr>\n",
       "      <th>4</th>\n",
       "      <td>4</td>\n",
       "      <td>Baby Ruth</td>\n",
       "      <td>Yes</td>\n",
       "      <td>No</td>\n",
       "      <td>Yes</td>\n",
       "      <td>Yes</td>\n",
       "      <td>Yes</td>\n",
       "      <td>No</td>\n",
       "      <td>No</td>\n",
       "      <td>Yes</td>\n",
       "      <td>No</td>\n",
       "      <td>0.604</td>\n",
       "      <td>0.767</td>\n",
       "      <td>56.914547</td>\n",
       "    </tr>\n",
       "    <tr>\n",
       "      <th>...</th>\n",
       "      <td>...</td>\n",
       "      <td>...</td>\n",
       "      <td>...</td>\n",
       "      <td>...</td>\n",
       "      <td>...</td>\n",
       "      <td>...</td>\n",
       "      <td>...</td>\n",
       "      <td>...</td>\n",
       "      <td>...</td>\n",
       "      <td>...</td>\n",
       "      <td>...</td>\n",
       "      <td>...</td>\n",
       "      <td>...</td>\n",
       "      <td>...</td>\n",
       "    </tr>\n",
       "    <tr>\n",
       "      <th>78</th>\n",
       "      <td>78</td>\n",
       "      <td>Twizzlers</td>\n",
       "      <td>No</td>\n",
       "      <td>Yes</td>\n",
       "      <td>No</td>\n",
       "      <td>No</td>\n",
       "      <td>No</td>\n",
       "      <td>No</td>\n",
       "      <td>No</td>\n",
       "      <td>No</td>\n",
       "      <td>No</td>\n",
       "      <td>0.220</td>\n",
       "      <td>0.116</td>\n",
       "      <td>45.466282</td>\n",
       "    </tr>\n",
       "    <tr>\n",
       "      <th>79</th>\n",
       "      <td>79</td>\n",
       "      <td>Warheads</td>\n",
       "      <td>No</td>\n",
       "      <td>Yes</td>\n",
       "      <td>No</td>\n",
       "      <td>No</td>\n",
       "      <td>No</td>\n",
       "      <td>No</td>\n",
       "      <td>Yes</td>\n",
       "      <td>No</td>\n",
       "      <td>No</td>\n",
       "      <td>0.093</td>\n",
       "      <td>0.116</td>\n",
       "      <td>39.011898</td>\n",
       "    </tr>\n",
       "    <tr>\n",
       "      <th>80</th>\n",
       "      <td>80</td>\n",
       "      <td>Welch's Fruit Snacks</td>\n",
       "      <td>No</td>\n",
       "      <td>Yes</td>\n",
       "      <td>No</td>\n",
       "      <td>No</td>\n",
       "      <td>No</td>\n",
       "      <td>No</td>\n",
       "      <td>No</td>\n",
       "      <td>No</td>\n",
       "      <td>Yes</td>\n",
       "      <td>0.313</td>\n",
       "      <td>0.313</td>\n",
       "      <td>44.375519</td>\n",
       "    </tr>\n",
       "    <tr>\n",
       "      <th>81</th>\n",
       "      <td>81</td>\n",
       "      <td>Werther's Original Caramel</td>\n",
       "      <td>No</td>\n",
       "      <td>No</td>\n",
       "      <td>Yes</td>\n",
       "      <td>No</td>\n",
       "      <td>No</td>\n",
       "      <td>No</td>\n",
       "      <td>Yes</td>\n",
       "      <td>No</td>\n",
       "      <td>No</td>\n",
       "      <td>0.186</td>\n",
       "      <td>0.267</td>\n",
       "      <td>41.904308</td>\n",
       "    </tr>\n",
       "    <tr>\n",
       "      <th>82</th>\n",
       "      <td>82</td>\n",
       "      <td>Whoppers</td>\n",
       "      <td>Yes</td>\n",
       "      <td>No</td>\n",
       "      <td>No</td>\n",
       "      <td>No</td>\n",
       "      <td>No</td>\n",
       "      <td>Yes</td>\n",
       "      <td>No</td>\n",
       "      <td>No</td>\n",
       "      <td>Yes</td>\n",
       "      <td>0.872</td>\n",
       "      <td>0.848</td>\n",
       "      <td>49.524113</td>\n",
       "    </tr>\n",
       "  </tbody>\n",
       "</table>\n",
       "<p>83 rows × 14 columns</p>\n",
       "</div>"
      ],
      "text/plain": [
       "    id              competitorname chocolate fruity caramel peanutyalmondy  \\\n",
       "0    0                   100 Grand       Yes     No     Yes             No   \n",
       "1    1                3 Musketeers       Yes     No      No             No   \n",
       "2    2                   Air Heads        No    Yes      No             No   \n",
       "3    3                  Almond Joy       Yes     No      No            Yes   \n",
       "4    4                   Baby Ruth       Yes     No     Yes            Yes   \n",
       "..  ..                         ...       ...    ...     ...            ...   \n",
       "78  78                   Twizzlers        No    Yes      No             No   \n",
       "79  79                    Warheads        No    Yes      No             No   \n",
       "80  80        Welch's Fruit Snacks        No    Yes      No             No   \n",
       "81  81  Werther's Original Caramel        No     No     Yes             No   \n",
       "82  82                    Whoppers       Yes     No      No             No   \n",
       "\n",
       "   nougat crispedricewafer hard  bar pluribus  sugarpercent  pricepercent  \\\n",
       "0      No              Yes   No  Yes       No         0.732         0.860   \n",
       "1     Yes               No   No  Yes       No         0.604         0.511   \n",
       "2      No               No   No   No       No         0.906         0.511   \n",
       "3      No               No   No  Yes       No         0.465         0.767   \n",
       "4     Yes               No   No  Yes       No         0.604         0.767   \n",
       "..    ...              ...  ...  ...      ...           ...           ...   \n",
       "78     No               No   No   No       No         0.220         0.116   \n",
       "79     No               No  Yes   No       No         0.093         0.116   \n",
       "80     No               No   No   No      Yes         0.313         0.313   \n",
       "81     No               No  Yes   No       No         0.186         0.267   \n",
       "82     No              Yes   No   No      Yes         0.872         0.848   \n",
       "\n",
       "    winpercent  \n",
       "0    66.971725  \n",
       "1    67.602936  \n",
       "2    52.341465  \n",
       "3    50.347546  \n",
       "4    56.914547  \n",
       "..         ...  \n",
       "78   45.466282  \n",
       "79   39.011898  \n",
       "80   44.375519  \n",
       "81   41.904308  \n",
       "82   49.524113  \n",
       "\n",
       "[83 rows x 14 columns]"
      ]
     },
     "execution_count": 25,
     "metadata": {},
     "output_type": "execute_result"
    }
   ],
   "source": [
    "candy_data"
   ]
  },
  {
   "cell_type": "code",
   "execution_count": 26,
   "id": "929d2b54-0ba3-4712-a723-8dc52deab6a5",
   "metadata": {},
   "outputs": [
    {
     "data": {
      "text/plain": [
       "0.30200004999999996"
      ]
     },
     "execution_count": 26,
     "metadata": {},
     "output_type": "execute_result"
    }
   ],
   "source": [
    "candy_data.iloc[2,11]-candy_data.iloc[4,11]"
   ]
  },
  {
   "cell_type": "code",
   "execution_count": 27,
   "id": "79162160-a0f3-4d2b-b3e4-4d864f8097a5",
   "metadata": {},
   "outputs": [
    {
     "data": {
      "text/plain": [
       "0                      100 Grand\n",
       "1                   3 Musketeers\n",
       "2                      Air Heads\n",
       "3                     Almond Joy\n",
       "4                      Baby Ruth\n",
       "                 ...            \n",
       "78                     Twizzlers\n",
       "79                      Warheads\n",
       "80          Welch's Fruit Snacks\n",
       "81    Werther's Original Caramel\n",
       "82                      Whoppers\n",
       "Name: competitorname, Length: 83, dtype: object"
      ]
     },
     "execution_count": 27,
     "metadata": {},
     "output_type": "execute_result"
    }
   ],
   "source": [
    "candy_data.competitorname"
   ]
  },
  {
   "cell_type": "code",
   "execution_count": 28,
   "id": "943c0c60-d533-4b1a-9094-55f0e0f69041",
   "metadata": {},
   "outputs": [],
   "source": [
    "x=candy_data.sugarpercent\n",
    "y=candy_data.winpercent"
   ]
  },
  {
   "cell_type": "code",
   "execution_count": 29,
   "id": "8df9e46a-405a-4665-998e-2ccb2036b75f",
   "metadata": {},
   "outputs": [],
   "source": [
    "x=np.array([x])\n",
    "y=np.array([y])"
   ]
  },
  {
   "cell_type": "code",
   "execution_count": 30,
   "id": "d009431d-cd90-4463-ab68-728c5796b20a",
   "metadata": {},
   "outputs": [],
   "source": [
    "x=x.reshape(-1, 1)\n",
    "y=y.reshape(-1, 1)"
   ]
  },
  {
   "cell_type": "code",
   "execution_count": 31,
   "id": "d890e618-a92b-4587-a070-e1fecca66c5c",
   "metadata": {},
   "outputs": [
    {
     "data": {
      "text/plain": [
       "<AxesSubplot:xlabel='sugarpercent', ylabel='winpercent'>"
      ]
     },
     "execution_count": 31,
     "metadata": {},
     "output_type": "execute_result"
    },
    {
     "data": {
      "image/png": "[encoded data removed]",
      "text/plain": [
       "<Figure size 432x288 with 1 Axes>"
      ]
     },
     "metadata": {
      "needs_background": "light"
     },
     "output_type": "display_data"
    }
   ],
   "source": [
    "sns.scatterplot(x=candy_data.sugarpercent,y=candy_data.winpercent)"
   ]
  },
  {
   "cell_type": "code",
   "execution_count": 32,
   "id": "4aa6b7b4-6d69-4a6f-a5b4-3cc3a8d7d1e9",
   "metadata": {},
   "outputs": [
    {
     "data": {
      "text/plain": [
       "[<matplotlib.lines.Line2D at 0x16fb829cb50>]"
      ]
     },
     "execution_count": 32,
     "metadata": {},
     "output_type": "execute_result"
    },
    {
     "data": {
      "image/png": "[encoded data removed]",
      "text/plain": [
       "<Figure size 432x288 with 1 Axes>"
      ]
     },
     "metadata": {
      "needs_background": "light"
     },
     "output_type": "display_data"
    }
   ],
   "source": [
    "from sklearn.linear_model import LinearRegression\n",
    "X1=x[:np.newaxis]\n",
    "plt.plot(X1,y,'bo')"
   ]
  },
  {
   "cell_type": "code",
   "execution_count": 33,
   "id": "598f574a-17d7-4b82-906a-d63473ad90c5",
   "metadata": {},
   "outputs": [
    {
     "data": {
      "text/plain": [
       "[<matplotlib.lines.Line2D at 0x16fb831b4c0>]"
      ]
     },
     "execution_count": 33,
     "metadata": {},
     "output_type": "execute_result"
    },
    {
     "data": {
      "image/png": "[encoded data removed]",
      "text/plain": [
       "<Figure size 432x288 with 1 Axes>"
      ]
     },
     "metadata": {
      "needs_background": "light"
     },
     "output_type": "display_data"
    }
   ],
   "source": [
    "z=LinearRegression()\n",
    "z.fit(X1,y)\n",
    "x_fit=np.linspace(0,1,10)[:,np.newaxis]\n",
    "y_fit=z.predict(x_fit)\n",
    "plt.plot(X1,y,'bo')\n",
    "plt.plot(x_fit,y_fit)"
   ]
  },
  {
   "cell_type": "code",
   "execution_count": 34,
   "id": "e81ce67b-2fce-4c22-ba89-19485206bb53",
   "metadata": {},
   "outputs": [
    {
     "data": {
      "text/plain": [
       "[<matplotlib.lines.Line2D at 0x16fb8391280>]"
      ]
     },
     "execution_count": 34,
     "metadata": {},
     "output_type": "execute_result"
    },
    {
     "data": {
      "image/png": "[encoded data removed]",
      "text/plain": [
       "<Figure size 432x288 with 1 Axes>"
      ]
     },
     "metadata": {
      "needs_background": "light"
     },
     "output_type": "display_data"
    }
   ],
   "source": [
    "x=candy_data.sugarpercent\n",
    "y=candy_data.winpercent\n",
    "x=np.array([x])\n",
    "y=np.array([y])\n",
    "x=x.reshape(-1, 1)\n",
    "y=y.reshape(-1, 1)\n",
    "from sklearn.linear_model import LinearRegression\n",
    "X1=x[:np.newaxis]\n",
    "plt.plot(X1,y,'bo')\n",
    "z=LinearRegression()\n",
    "z.fit(X1,y)\n",
    "x_fit=np.linspace(0,1,10)[:,np.newaxis]\n",
    "y_fit=z.predict(x_fit)\n",
    "plt.plot(X1,y,'bo')\n",
    "plt.plot(x_fit,y_fit)"
   ]
  },
  {
   "cell_type": "code",
   "execution_count": 35,
   "id": "91cfc7b4-22bb-47d9-a8fd-76740c1709b8",
   "metadata": {},
   "outputs": [
    {
     "data": {
      "text/plain": [
       "<AxesSubplot:xlabel='pricepercent', ylabel='winpercent'>"
      ]
     },
     "execution_count": 35,
     "metadata": {},
     "output_type": "execute_result"
    },
    {
     "data": {
      "image/png": "[encoded data removed]",
      "text/plain": [
       "<Figure size 432x288 with 1 Axes>"
      ]
     },
     "metadata": {
      "needs_background": "light"
     },
     "output_type": "display_data"
    }
   ],
   "source": [
    "sns.scatterplot(x=candy_data.pricepercent,y=candy_data.winpercent)"
   ]
  },
  {
   "cell_type": "code",
   "execution_count": 36,
   "id": "6bb99088-66b5-407a-aa57-b6502eb18430",
   "metadata": {},
   "outputs": [
    {
     "data": {
      "text/plain": [
       "<AxesSubplot:xlabel='chocolate', ylabel='winpercent'>"
      ]
     },
     "execution_count": 36,
     "metadata": {},
     "output_type": "execute_result"
    },
    {
     "data": {
      "image/png": "[encoded data removed]",
      "text/plain": [
       "<Figure size 432x288 with 1 Axes>"
      ]
     },
     "metadata": {
      "needs_background": "light"
     },
     "output_type": "display_data"
    }
   ],
   "source": [
    "sns.swarmplot(x=candy_data.chocolate,y=candy_data.winpercent)"
   ]
  },
  {
   "cell_type": "code",
   "execution_count": 38,
   "id": "d5578e63-8362-406b-8648-68575e4cc18d",
   "metadata": {},
   "outputs": [
    {
     "name": "stdout",
     "output_type": "stream",
     "text": [
      "Setup Complete\n"
     ]
    }
   ],
   "source": [
    "import pandas as pd\n",
    "pd.plotting.register_matplotlib_converters()\n",
    "import matplotlib.pyplot as plt\n",
    "%matplotlib inline\n",
    "import seaborn as sns\n",
    "print(\"Setup Complete\")"
   ]
  },
  {
   "cell_type": "code",
   "execution_count": 39,
   "id": "2b785c75-d8c9-441c-b925-3af8cd853882",
   "metadata": {},
   "outputs": [],
   "source": [
    "ign_data =pd.read_csv('Downloads/ign_scores (1).csv')"
   ]
  },
  {
   "cell_type": "code",
   "execution_count": 40,
   "id": "f9996604-baa4-42da-b628-6b0dea97310e",
   "metadata": {},
   "outputs": [
    {
     "name": "stdout",
     "output_type": "stream",
     "text": [
      "                Platform    Action  Action, Adventure  Adventure  Fighting  \\\n",
      "0              Dreamcast  6.882857           7.511111   6.281818  8.200000   \n",
      "1       Game Boy Advance  6.373077           7.507692   6.057143  6.226316   \n",
      "2         Game Boy Color  6.272727           8.166667   5.307692  4.500000   \n",
      "3               GameCube  6.532584           7.608333   6.753846  7.422222   \n",
      "4           Nintendo 3DS  6.670833           7.481818   7.414286  6.614286   \n",
      "5            Nintendo 64  6.649057           8.250000   7.000000  5.681250   \n",
      "6            Nintendo DS  5.903608           7.240000   6.259804  6.320000   \n",
      "7           Nintendo DSi  6.827027           8.500000   6.090909  7.500000   \n",
      "8                     PC  6.805791           7.334746   7.136798  7.166667   \n",
      "9            PlayStation  6.016406           7.933333   6.313725  6.553731   \n",
      "10         PlayStation 2  6.467361           7.250000   6.315152  7.306349   \n",
      "11         PlayStation 3  6.853819           7.306154   6.820988  7.710938   \n",
      "12         PlayStation 4  7.550000           7.835294   7.388571  7.280000   \n",
      "13  PlayStation Portable  6.467797           7.000000   6.938095  6.822222   \n",
      "14      PlayStation Vita  7.173077           6.133333   8.057143  7.527273   \n",
      "15                   Wii  6.262718           7.294643   6.234043  6.733333   \n",
      "16              Wireless  7.041699           7.312500   6.972414  6.740000   \n",
      "17                  Xbox  6.819512           7.479032   6.821429  7.029630   \n",
      "18              Xbox 360  6.719048           7.137838   6.857353  7.552239   \n",
      "19              Xbox One  7.702857           7.566667   7.254545  7.171429   \n",
      "20                iPhone  6.865445           7.764286   7.745833  6.087500   \n",
      "\n",
      "    Platformer    Puzzle       RPG    Racing   Shooter  Simulation    Sports  \\\n",
      "0     8.340000  8.088889  7.700000  7.042500  7.616667    7.628571  7.272222   \n",
      "1     6.970588  6.532143  7.542857  6.657143  6.444444    6.928571  6.694444   \n",
      "2     6.352941  6.583333  7.285714  5.897436  4.500000    5.900000  5.790698   \n",
      "3     6.665714  6.133333  7.890909  6.852632  6.981818    8.028571  7.481319   \n",
      "4     7.503448  8.000000  7.719231  6.900000  7.033333    7.700000  6.388889   \n",
      "5     6.889655  7.461538  6.050000  6.939623  8.042857    5.675000  6.967857   \n",
      "6     6.840000  6.604615  7.222619  6.038636  6.965217    5.874359  5.936667   \n",
      "7     7.250000  6.810526  7.166667  6.563636  6.500000    5.195652  5.644444   \n",
      "8     7.410938  6.924706  7.759930  7.032418  7.084878    7.104889  6.902424   \n",
      "9     6.579070  6.757895  7.910000  6.773387  6.424000    6.918182  6.751220   \n",
      "10    7.068421  6.354545  7.473077  6.585065  6.641667    7.152632  7.197826   \n",
      "11    7.735714  7.350000  7.436111  6.978571  7.219553    7.142857  7.485816   \n",
      "12    8.390909  7.400000  7.944000  7.590000  7.804444    9.250000  7.430000   \n",
      "13    7.194737  6.726667  6.817778  6.401961  7.071053    6.761538  6.956790   \n",
      "14    8.568750  8.250000  7.337500  6.300000  7.660000    5.725000  7.130000   \n",
      "15    7.054255  6.426984  7.410345  5.011667  6.479798    6.327027  5.966901   \n",
      "16    7.509091  7.360550  8.260000  6.898305  6.906780    7.802857  7.417699   \n",
      "17    7.303448  5.125000  8.277778  7.021591  7.485417    7.155556  7.884397   \n",
      "18    7.559574  7.141026  7.650000  6.996154  7.338153    7.325000  7.317857   \n",
      "19    6.733333  8.100000  8.291667  8.163636  8.020000    7.733333  7.331818   \n",
      "20    7.471930  7.810784  7.185185  7.315789  6.995588    7.328571  7.152174   \n",
      "\n",
      "    Strategy  \n",
      "0   6.433333  \n",
      "1   7.175000  \n",
      "2   7.400000  \n",
      "3   7.116667  \n",
      "4   7.900000  \n",
      "5   6.900000  \n",
      "6   6.644737  \n",
      "7   6.566667  \n",
      "8   7.310207  \n",
      "9   6.496875  \n",
      "10  7.238889  \n",
      "11  7.355172  \n",
      "12  6.566667  \n",
      "13  6.550000  \n",
      "14  8.900000  \n",
      "15  6.975000  \n",
      "16  7.542857  \n",
      "17  7.313333  \n",
      "18  7.112245  \n",
      "19  8.500000  \n",
      "20  7.534921  \n"
     ]
    }
   ],
   "source": [
    "print(ign_data)"
   ]
  },
  {
   "cell_type": "code",
   "execution_count": 41,
   "id": "0e548193-8013-41d6-9879-0da94bb27a4e",
   "metadata": {},
   "outputs": [],
   "source": [
    "genre=ign_data.columns\n",
    "#data=ign_data.loc['PlayStation Vita']\n",
    "#v=data.values.tolist()\n",
    "#df={'genre':genre,'values':v}\n",
    "#g=pd.DataFrame(data=df)\n",
    "#g=g.set_index('genre')\n",
    "#m=g['values'].idxmin(axis=1)"
   ]
  },
  {
   "cell_type": "code",
   "execution_count": 42,
   "id": "e8c69ccd-8a64-487a-be57-ce8412d04ad6",
   "metadata": {},
   "outputs": [
    {
     "data": {
      "text/plain": [
       "Platform             DreamcastGame Boy AdvanceGame Boy ColorGameCub...\n",
       "Action                                                        140.8573\n",
       "Action, Adventure                                           157.613447\n",
       "Adventure                                                   142.021587\n",
       "Fighting                                                    144.145384\n",
       "Platformer                                                  153.392518\n",
       "Puzzle                                                      147.942536\n",
       "RPG                                                         158.331368\n",
       "Racing                                                       141.96015\n",
       "Shooter                                                     147.215667\n",
       "Simulation                                                  146.658168\n",
       "Sports                                                      145.101463\n",
       "Strategy                                                     151.53257\n",
       "dtype: object"
      ]
     },
     "execution_count": 42,
     "metadata": {},
     "output_type": "execute_result"
    }
   ],
   "source": [
    "ign_data.sum(axis=0)"
   ]
  },
  {
   "cell_type": "code",
   "execution_count": 43,
   "id": "7ad46352-c027-4347-a18f-4ebf8afc1a42",
   "metadata": {},
   "outputs": [
    {
     "data": {
      "text/plain": [
       "Text(0.5, 1.0, 'Average Score for Racing Games, by Platform')"
      ]
     },
     "execution_count": 43,
     "metadata": {},
     "output_type": "execute_result"
    },
    {
     "data": {
      "image/png": "[encoded data removed]",
      "text/plain": [
       "<Figure size 576x432 with 1 Axes>"
      ]
     },
     "metadata": {
      "needs_background": "light"
     },
     "output_type": "display_data"
    }
   ],
   "source": [
    "plt.figure(figsize=(8, 6))\n",
    "# Bar chart showing average score for racing games by platform\n",
    "sns.barplot(x=ign_data.Platform,y=ign_data.Racing)\n",
    "# Add label for horizontal axis\n",
    "#plt.xlabel(\"\")\n",
    "# Add label for vertical axis\n",
    "plt.title(\"Average Score for Racing Games, by Platform\") # Your code here"
   ]
  },
  {
   "cell_type": "code",
   "execution_count": 44,
   "id": "a3739248-275f-4edf-9336-ad8d8b2d3a82",
   "metadata": {},
   "outputs": [],
   "source": [
    "genre=ign_data.columns"
   ]
  },
  {
   "cell_type": "code",
   "execution_count": 281,
   "id": "89a4e26e-7ecb-4749-9558-82a0e7a37042",
   "metadata": {},
   "outputs": [
    {
     "name": "stderr",
     "output_type": "stream",
     "text": [
      "C:\\Users\\Lenovo\\AppData\\Local\\Temp/ipykernel_68020/2841699257.py:1: FutureWarning: Dropping of nuisance columns in DataFrame reductions (with 'numeric_only=None') is deprecated; in a future version this will raise TypeError.  Select only valid columns before calling the reduction.\n",
      "  ign_data.mean()\n"
     ]
    },
    {
     "data": {
      "text/plain": [
       "Action               6.707490\n",
       "Action, Adventure    7.505402\n",
       "Adventure            6.762933\n",
       "Fighting             6.864066\n",
       "Platformer           7.304406\n",
       "Puzzle               7.044883\n",
       "RPG                  7.539589\n",
       "Racing               6.760007\n",
       "Shooter              7.010270\n",
       "Simulation           6.983722\n",
       "Sports               6.909593\n",
       "Strategy             7.215837\n",
       "dtype: float64"
      ]
     },
     "execution_count": 281,
     "metadata": {},
     "output_type": "execute_result"
    }
   ],
   "source": [
    "ign_data.mean()"
   ]
  },
  {
   "cell_type": "code",
   "execution_count": 46,
   "id": "bca9302e-7d42-44d8-b32a-d71716059b57",
   "metadata": {},
   "outputs": [],
   "source": [
    "import pandas as pd\n",
    "college=pd.read_csv('Downloads/college.csv')"
   ]
  },
  {
   "cell_type": "code",
   "execution_count": 47,
   "id": "20af6dca-f334-48f2-8be8-0a229d10c4e1",
   "metadata": {},
   "outputs": [],
   "source": [
    "college=college.fillna(0)"
   ]
  },
  {
   "cell_type": "code",
   "execution_count": 48,
   "id": "fa9468cb-3a3a-45fc-b3b0-40a8ce0d3434",
   "metadata": {},
   "outputs": [],
   "source": [
    "x=college.CITY.unique()"
   ]
  },
  {
   "cell_type": "code",
   "execution_count": 49,
   "id": "332216f4-ddd7-4ac8-8b64-1d202bb9006f",
   "metadata": {},
   "outputs": [
    {
     "data": {
      "text/plain": [
       "array(['Normal', 'Birmingham', 'Montgomery', ..., 'Palm Beach Gardens',\n",
       "       'Coral Springs', 'Willingboro'], dtype=object)"
      ]
     },
     "execution_count": 49,
     "metadata": {},
     "output_type": "execute_result"
    }
   ],
   "source": [
    "x"
   ]
  },
  {
   "cell_type": "code",
   "execution_count": 51,
   "id": "473079b3-0efa-4356-be7c-ac8cf114e2ea",
   "metadata": {},
   "outputs": [
    {
     "name": "stderr",
     "output_type": "stream",
     "text": [
      "C:\\Users\\Lenovo\\AppData\\Local\\Temp/ipykernel_144572/1179476551.py:1: FutureWarning: Dropping of nuisance columns in DataFrame reductions (with 'numeric_only=None') is deprecated; in a future version this will raise TypeError.  Select only valid columns before calling the reduction.\n",
      "  x=college.sum(axis=1)\n"
     ]
    }
   ],
   "source": [
    "x=college.sum(axis=1)"
   ]
  },
  {
   "cell_type": "code",
   "execution_count": 52,
   "id": "2ad36910-783f-4919-ba37-839d9f8bae25",
   "metadata": {},
   "outputs": [],
   "source": [
    "college['newcol']=x"
   ]
  },
  {
   "cell_type": "code",
   "execution_count": 53,
   "id": "6e4e62ba-273b-4d77-98c9-2123d6989856",
   "metadata": {},
   "outputs": [
    {
     "data": {
      "text/plain": [
       "<AxesSubplot:>"
      ]
     },
     "execution_count": 53,
     "metadata": {},
     "output_type": "execute_result"
    },
    {
     "data": {
      "image/png": "[encoded data removed]",
      "text/plain": [
       "<Figure size 432x288 with 1 Axes>"
      ]
     },
     "metadata": {
      "needs_background": "light"
     },
     "output_type": "display_data"
    }
   ],
   "source": [
    "college.plot(kind='bar',color='pink')"
   ]
  },
  {
   "cell_type": "code",
   "execution_count": 54,
   "id": "1b0ad72d-932d-4579-878a-4363b685d670",
   "metadata": {},
   "outputs": [
    {
     "name": "stderr",
     "output_type": "stream",
     "text": [
      "C:\\Users\\Lenovo\\AppData\\Local\\Temp/ipykernel_144572/2281048391.py:1: FutureWarning: Dropping of nuisance columns in DataFrame reductions (with 'numeric_only=None') is deprecated; in a future version this will raise TypeError.  Select only valid columns before calling the reduction.\n",
      "  z=college.sum(axis=1)\n"
     ]
    }
   ],
   "source": [
    "z=college.sum(axis=1)"
   ]
  },
  {
   "cell_type": "code",
   "execution_count": 55,
   "id": "595a78da-bee8-4775-96f8-b5eb8c74cc36",
   "metadata": {},
   "outputs": [
    {
     "data": {
      "text/plain": [
       "<AxesSubplot:>"
      ]
     },
     "execution_count": 55,
     "metadata": {},
     "output_type": "execute_result"
    },
    {
     "data": {
      "image/png": "[encoded data removed]",
      "text/plain": [
       "<Figure size 432x288 with 1 Axes>"
      ]
     },
     "metadata": {
      "needs_background": "light"
     },
     "output_type": "display_data"
    }
   ],
   "source": [
    "college.plot(kind='bar',color='pink')"
   ]
  },
  {
   "cell_type": "code",
   "execution_count": 56,
   "id": "74343baa-fff3-431e-9216-8db74bc97819",
   "metadata": {},
   "outputs": [
    {
     "data": {
      "text/html": [
       "<div>\n",
       "<style scoped>\n",
       "    .dataframe tbody tr th:only-of-type {\n",
       "        vertical-align: middle;\n",
       "    }\n",
       "\n",
       "    .dataframe tbody tr th {\n",
       "        vertical-align: top;\n",
       "    }\n",
       "\n",
       "    .dataframe thead th {\n",
       "        text-align: right;\n",
       "    }\n",
       "</style>\n",
       "<table border=\"1\" class=\"dataframe\">\n",
       "  <thead>\n",
       "    <tr style=\"text-align: right;\">\n",
       "      <th></th>\n",
       "      <th>INSTNM</th>\n",
       "      <th>CITY</th>\n",
       "      <th>STABBR</th>\n",
       "      <th>HBCU</th>\n",
       "      <th>MENONLY</th>\n",
       "      <th>WOMENONLY</th>\n",
       "      <th>RELAFFIL</th>\n",
       "      <th>SATVRMID</th>\n",
       "      <th>SATMTMID</th>\n",
       "      <th>DISTANCEONLY</th>\n",
       "      <th>...</th>\n",
       "      <th>UGDS_NRA</th>\n",
       "      <th>UGDS_UNKN</th>\n",
       "      <th>PPTUG_EF</th>\n",
       "      <th>CURROPER</th>\n",
       "      <th>PCTPELL</th>\n",
       "      <th>PCTFLOAN</th>\n",
       "      <th>UG25ABV</th>\n",
       "      <th>MD_EARN_WNE_P10</th>\n",
       "      <th>GRAD_DEBT_MDN_SUPP</th>\n",
       "      <th>newcol</th>\n",
       "    </tr>\n",
       "  </thead>\n",
       "  <tbody>\n",
       "    <tr>\n",
       "      <th>0.0</th>\n",
       "      <td>Alabama A &amp; M University</td>\n",
       "      <td>Normal</td>\n",
       "      <td>AL</td>\n",
       "      <td>1.0</td>\n",
       "      <td>0.0</td>\n",
       "      <td>0.0</td>\n",
       "      <td>0</td>\n",
       "      <td>424.0</td>\n",
       "      <td>420.0</td>\n",
       "      <td>0.0</td>\n",
       "      <td>...</td>\n",
       "      <td>0.0059</td>\n",
       "      <td>0.0138</td>\n",
       "      <td>0.0656</td>\n",
       "      <td>1</td>\n",
       "      <td>0.7356</td>\n",
       "      <td>0.8284</td>\n",
       "      <td>0.1049</td>\n",
       "      <td>30300</td>\n",
       "      <td>33888</td>\n",
       "      <td>5054.7345</td>\n",
       "    </tr>\n",
       "  </tbody>\n",
       "</table>\n",
       "<p>1 rows × 28 columns</p>\n",
       "</div>"
      ],
      "text/plain": [
       "                       INSTNM    CITY STABBR  HBCU  MENONLY  WOMENONLY  \\\n",
       "0.0  Alabama A & M University  Normal     AL   1.0      0.0        0.0   \n",
       "\n",
       "     RELAFFIL  SATVRMID  SATMTMID  DISTANCEONLY  ...  UGDS_NRA  UGDS_UNKN  \\\n",
       "0.0         0     424.0     420.0           0.0  ...    0.0059     0.0138   \n",
       "\n",
       "     PPTUG_EF  CURROPER  PCTPELL  PCTFLOAN  UG25ABV  MD_EARN_WNE_P10  \\\n",
       "0.0    0.0656         1   0.7356    0.8284   0.1049            30300   \n",
       "\n",
       "     GRAD_DEBT_MDN_SUPP     newcol  \n",
       "0.0               33888  5054.7345  \n",
       "\n",
       "[1 rows x 28 columns]"
      ]
     },
     "execution_count": 56,
     "metadata": {},
     "output_type": "execute_result"
    }
   ],
   "source": [
    "college.loc[college.UGDS_HISP.sort_values().head(1)]"
   ]
  },
  {
   "cell_type": "code",
   "execution_count": null,
   "id": "f799fabb-67dc-41a8-ab81-148bb7c130af",
   "metadata": {},
   "outputs": [],
   "source": []
  }
 ],
 "metadata": {
  "kernelspec": {
   "display_name": "Python 3 (ipykernel)",
   "language": "python",
   "name": "python3"
  },
  "language_info": {
   "codemirror_mode": {
    "name": "ipython",
    "version": 3
   },
   "file_extension": ".py",
   "mimetype": "text/x-python",
   "name": "python",
   "nbconvert_exporter": "python",
   "pygments_lexer": "ipython3",
   "version": "3.9.7"
  }
 },
 "nbformat": 4,
 "nbformat_minor": 5
}
